{
 "cells": [
  {
   "cell_type": "markdown",
   "id": "11728746",
   "metadata": {},
   "source": [
    "## Exploratory Data Analysis"
   ]
  },
  {
   "cell_type": "code",
   "execution_count": 46,
   "id": "efdfe026",
   "metadata": {},
   "outputs": [],
   "source": [
    "# Importing libraries\n",
    "import numpy as np\n",
    "import pandas as pd\n",
    "\n",
    "import matplotlib.pyplot as plt\n",
    "import seaborn as sns\n",
    "%matplotlib inline"
   ]
  },
  {
   "cell_type": "code",
   "execution_count": 10,
   "id": "0bdae41c",
   "metadata": {},
   "outputs": [
    {
     "data": {
      "text/html": [
       "<div>\n",
       "<style scoped>\n",
       "    .dataframe tbody tr th:only-of-type {\n",
       "        vertical-align: middle;\n",
       "    }\n",
       "\n",
       "    .dataframe tbody tr th {\n",
       "        vertical-align: top;\n",
       "    }\n",
       "\n",
       "    .dataframe thead th {\n",
       "        text-align: right;\n",
       "    }\n",
       "</style>\n",
       "<table border=\"1\" class=\"dataframe\">\n",
       "  <thead>\n",
       "    <tr style=\"text-align: right;\">\n",
       "      <th></th>\n",
       "      <th>Sex</th>\n",
       "      <th>Age</th>\n",
       "      <th>Country.of.birth</th>\n",
       "      <th>Region</th>\n",
       "      <th>Time</th>\n",
       "      <th>Population</th>\n",
       "    </tr>\n",
       "  </thead>\n",
       "  <tbody>\n",
       "    <tr>\n",
       "      <th>0</th>\n",
       "      <td>Males</td>\n",
       "      <td>0 - 4</td>\n",
       "      <td>Australia</td>\n",
       "      <td>New South Wales</td>\n",
       "      <td>1996</td>\n",
       "      <td>217870</td>\n",
       "    </tr>\n",
       "    <tr>\n",
       "      <th>1</th>\n",
       "      <td>Males</td>\n",
       "      <td>0 - 4</td>\n",
       "      <td>Australia</td>\n",
       "      <td>New South Wales</td>\n",
       "      <td>2001</td>\n",
       "      <td>216620</td>\n",
       "    </tr>\n",
       "    <tr>\n",
       "      <th>2</th>\n",
       "      <td>Males</td>\n",
       "      <td>0 - 4</td>\n",
       "      <td>Australia</td>\n",
       "      <td>New South Wales</td>\n",
       "      <td>2006</td>\n",
       "      <td>213520</td>\n",
       "    </tr>\n",
       "    <tr>\n",
       "      <th>3</th>\n",
       "      <td>Males</td>\n",
       "      <td>0 - 4</td>\n",
       "      <td>Australia</td>\n",
       "      <td>New South Wales</td>\n",
       "      <td>2011</td>\n",
       "      <td>233550</td>\n",
       "    </tr>\n",
       "    <tr>\n",
       "      <th>4</th>\n",
       "      <td>Males</td>\n",
       "      <td>0 - 4</td>\n",
       "      <td>Australia</td>\n",
       "      <td>New South Wales</td>\n",
       "      <td>2016</td>\n",
       "      <td>246710</td>\n",
       "    </tr>\n",
       "  </tbody>\n",
       "</table>\n",
       "</div>"
      ],
      "text/plain": [
       "     Sex     Age Country.of.birth           Region  Time  Population\n",
       "0  Males   0 - 4        Australia  New South Wales  1996      217870\n",
       "1  Males   0 - 4        Australia  New South Wales  2001      216620\n",
       "2  Males   0 - 4        Australia  New South Wales  2006      213520\n",
       "3  Males   0 - 4        Australia  New South Wales  2011      233550\n",
       "4  Males   0 - 4        Australia  New South Wales  2016      246710"
      ]
     },
     "execution_count": 10,
     "metadata": {},
     "output_type": "execute_result"
    }
   ],
   "source": [
    "pd.set_option(\"display.max_rows\", None, \"display.max_columns\", None, \"display.width\", None)\n",
    "\n",
    "# Importing dataset\n",
    "data = pd.read_csv('1996-2016 Aus ERP..csv')\n",
    "data.head()\n"
   ]
  },
  {
   "cell_type": "code",
   "execution_count": 11,
   "id": "7c69c2c8",
   "metadata": {},
   "outputs": [
    {
     "name": "stdout",
     "output_type": "stream",
     "text": [
      "<class 'pandas.core.frame.DataFrame'>\n",
      "RangeIndex: 326656 entries, 0 to 326655\n",
      "Data columns (total 6 columns):\n",
      " #   Column            Non-Null Count   Dtype \n",
      "---  ------            --------------   ----- \n",
      " 0   Sex               326656 non-null  object\n",
      " 1   Age               326656 non-null  object\n",
      " 2   Country.of.birth  326656 non-null  object\n",
      " 3   Region            326656 non-null  object\n",
      " 4   Time              326656 non-null  int64 \n",
      " 5   Population        326656 non-null  int64 \n",
      "dtypes: int64(2), object(4)\n",
      "memory usage: 15.0+ MB\n"
     ]
    }
   ],
   "source": [
    "data.info()"
   ]
  },
  {
   "cell_type": "markdown",
   "id": "2b1744a4",
   "metadata": {},
   "source": [
    "### Initial evaluation:\n",
    "    The dataset contains 6 features in total. \n",
    "       - 5 categorial variables: Time, Sex, Age, Country of Birth, Region\n",
    "       - 1 numerical variable: Population. \n",
    "    There is no null values found. "
   ]
  },
  {
   "cell_type": "markdown",
   "id": "ac49aa4a",
   "metadata": {},
   "source": [
    "## Analysing numerical variable"
   ]
  },
  {
   "cell_type": "code",
   "execution_count": 12,
   "id": "217f1ce6",
   "metadata": {},
   "outputs": [
    {
     "data": {
      "text/plain": [
       "count    326656.000000\n",
       "mean        319.778881\n",
       "std        5290.432716\n",
       "min           0.000000\n",
       "25%           0.000000\n",
       "50%           0.000000\n",
       "75%          10.000000\n",
       "max      246710.000000\n",
       "Name: Population, dtype: float64"
      ]
     },
     "execution_count": 12,
     "metadata": {},
     "output_type": "execute_result"
    }
   ],
   "source": [
    "data.Population.describe()"
   ]
  },
  {
   "cell_type": "code",
   "execution_count": 14,
   "id": "868ed235",
   "metadata": {},
   "outputs": [
    {
     "name": "stderr",
     "output_type": "stream",
     "text": [
      "C:\\Users\\fresh\\anaconda3\\lib\\site-packages\\seaborn\\distributions.py:2619: FutureWarning: `distplot` is a deprecated function and will be removed in a future version. Please adapt your code to use either `displot` (a figure-level function with similar flexibility) or `histplot` (an axes-level function for histograms).\n",
      "  warnings.warn(msg, FutureWarning)\n"
     ]
    },
    {
     "data": {
      "text/plain": [
       "<AxesSubplot:xlabel='Population', ylabel='Density'>"
      ]
     },
     "execution_count": 14,
     "metadata": {},
     "output_type": "execute_result"
    },
    {
     "data": {
      "image/png": "[encoded data removed]",
      "text/plain": [
       "<Figure size 864x360 with 1 Axes>"
      ]
     },
     "metadata": {
      "needs_background": "light"
     },
     "output_type": "display_data"
    }
   ],
   "source": [
    "plt.figure(figsize=(12,5))\n",
    "sns.distplot(data['Population'], hist=True, label = 'Population')"
   ]
  },
  {
   "cell_type": "markdown",
   "id": "6e8e1fb5",
   "metadata": {},
   "source": [
    "The Population distribution is heavily right-skewed. Meaning that the huge percentage of population are somewhere between 0 and 7000, and a very small percentage of population is higher than that, causing the data to be skewed. \n",
    "\n",
    "Looking at the statistical analysis, only 25% of the population entries is higher than 10."
   ]
  },
  {
   "cell_type": "markdown",
   "id": "ac7d8002",
   "metadata": {},
   "source": [
    "## Analysing categorical variables"
   ]
  },
  {
   "cell_type": "markdown",
   "id": "0d36d984",
   "metadata": {},
   "source": [
    "### Sex, Time"
   ]
  },
  {
   "cell_type": "code",
   "execution_count": 20,
   "id": "07b7860c",
   "metadata": {},
   "outputs": [
    {
     "data": {
      "text/plain": [
       "<AxesSubplot:xlabel='Time', ylabel='Population'>"
      ]
     },
     "execution_count": 20,
     "metadata": {},
     "output_type": "execute_result"
    },
    {
     "data": {
      "image/png": "[encoded data removed]",
      "text/plain": [
       "<Figure size 1800x360 with 2 Axes>"
      ]
     },
     "metadata": {
      "needs_background": "light"
     },
     "output_type": "display_data"
    }
   ],
   "source": [
    "# Removing outliers\n",
    "fig, axes = plt.subplots(1, 2, figsize=(25, 5))\n",
    "fig.suptitle('Sex, Time - Population')\n",
    "sns.boxplot(ax=axes[0], data=data, x='Sex', y='Population', palette = \"Blues_r\", showfliers = False)\n",
    "sns.boxplot(ax=axes[1], data=data, x='Time', y='Population', palette = \"Blues_r\", showfliers = False)"
   ]
  },
  {
   "cell_type": "code",
   "execution_count": 21,
   "id": "05c875f9",
   "metadata": {
    "scrolled": true
   },
   "outputs": [
    {
     "data": {
      "text/plain": [
       "count     65536.000000\n",
       "mean        278.089752\n",
       "std        4845.388929\n",
       "min           0.000000\n",
       "25%           0.000000\n",
       "50%           0.000000\n",
       "75%           0.000000\n",
       "max      217870.000000\n",
       "Name: Population, dtype: float64"
      ]
     },
     "execution_count": 21,
     "metadata": {},
     "output_type": "execute_result"
    }
   ],
   "source": [
    "data.Population[data.Time == 1996].describe()"
   ]
  },
  {
   "cell_type": "code",
   "execution_count": 25,
   "id": "482eb01a",
   "metadata": {},
   "outputs": [
    {
     "data": {
      "text/plain": [
       "18224890"
      ]
     },
     "execution_count": 25,
     "metadata": {},
     "output_type": "execute_result"
    }
   ],
   "source": [
    "data.Population[data.Time == 1996].sum()"
   ]
  },
  {
   "cell_type": "markdown",
   "id": "23dfd919",
   "metadata": {},
   "source": [
    "Key findings\n",
    "   1. The popuplation seems to distribute equally between 2 sexes\n",
    "   2. The more recent the data is, the larger the population range is.\n",
    "   3. The population by Time in 1996 is mostly 0 (at least 75%). However, the total population in 1996 is close to the national report (18,211,845), we can still consider trusting the population data in 1996 for the purpose of the report. Further research is suggested if possible. "
   ]
  },
  {
   "cell_type": "markdown",
   "id": "a692f06a",
   "metadata": {},
   "source": [
    "### Age"
   ]
  },
  {
   "cell_type": "code",
   "execution_count": 36,
   "id": "599d6be5",
   "metadata": {},
   "outputs": [
    {
     "data": {
      "text/plain": [
       "<AxesSubplot:xlabel='Age', ylabel='Population'>"
      ]
     },
     "execution_count": 36,
     "metadata": {},
     "output_type": "execute_result"
    },
    {
     "data": {
      "image/png": "[encoded data removed]",
      "text/plain": [
       "<Figure size 1080x360 with 1 Axes>"
      ]
     },
     "metadata": {
      "needs_background": "light"
     },
     "output_type": "display_data"
    }
   ],
   "source": [
    "plt.figure(figsize=(15,5))\n",
    "sns.boxplot(data=data, x='Age', y='Population', palette = \"Blues_r\", showfliers = False)"
   ]
  },
  {
   "cell_type": "code",
   "execution_count": 59,
   "id": "c6419d3b",
   "metadata": {},
   "outputs": [
    {
     "data": {
      "text/plain": [
       "count     20416.000000\n",
       "mean        337.408405\n",
       "std        6995.469695\n",
       "min           0.000000\n",
       "25%           0.000000\n",
       "50%           0.000000\n",
       "75%           0.000000\n",
       "max      246710.000000\n",
       "Name: Population, dtype: float64"
      ]
     },
     "execution_count": 59,
     "metadata": {},
     "output_type": "execute_result"
    }
   ],
   "source": [
    "# Descriptive statistics for 0-4 age group\n",
    "data.Population[data.Age == \" 0 - 4\"].describe()"
   ]
  },
  {
   "cell_type": "markdown",
   "id": "31d51b15",
   "metadata": {},
   "source": [
    "Age feature contains no null values. After removing all outliers, we can see population come mostly from adults (25 to 54 years old). Some age groups that stay next to each other show the same range in population. Therefore, we might consider to group them into the same group. For example: 0-9 (Gen Alpha) or 10-24 (Gen Z)"
   ]
  },
  {
   "cell_type": "markdown",
   "id": "42e82312",
   "metadata": {},
   "source": [
    "### Region"
   ]
  },
  {
   "cell_type": "code",
   "execution_count": 61,
   "id": "75f2d6a7",
   "metadata": {},
   "outputs": [
    {
     "data": {
      "text/plain": [
       "<AxesSubplot:xlabel='Region', ylabel='Population'>"
      ]
     },
     "execution_count": 61,
     "metadata": {},
     "output_type": "execute_result"
    },
    {
     "data": {
      "image/png": "[encoded data removed]",
      "text/plain": [
       "<Figure size 1080x360 with 1 Axes>"
      ]
     },
     "metadata": {
      "needs_background": "light"
     },
     "output_type": "display_data"
    }
   ],
   "source": [
    "plt.figure(figsize=(15,5))\n",
    "sns.boxplot(data=data, x='Region', y='Population', palette = \"Blues_r\", showfliers = False)"
   ]
  },
  {
   "cell_type": "markdown",
   "id": "cc0b4f53",
   "metadata": {},
   "source": [
    "The region feature contains correctly 8 regions of Australia and no null values. Population varies greatly in different regions. "
   ]
  },
  {
   "cell_type": "markdown",
   "id": "9b8415be",
   "metadata": {},
   "source": [
    "### Country of Birth"
   ]
  },
  {
   "cell_type": "code",
   "execution_count": 52,
   "id": "3175cce0",
   "metadata": {},
   "outputs": [],
   "source": [
    "data1=data[['Country.of.birth', 'Population']]"
   ]
  },
  {
   "cell_type": "code",
   "execution_count": 54,
   "id": "3610f54c",
   "metadata": {},
   "outputs": [
    {
     "data": {
      "text/plain": [
       "Country.of.birth\n",
       "Adelie Land (France)                                     0\n",
       "Afghanistan                                         122510\n",
       "Aland Islands                                            0\n",
       "Albania                                              10330\n",
       "Algeria                                               5340\n",
       "Andorra                                                 10\n",
       "Angola                                                1700\n",
       "Anguilla                                                10\n",
       "Antigua and Barbuda                                      0\n",
       "Argentina                                            67500\n",
       "Argentinian Antarctic Territory                          0\n",
       "Armenia                                               4640\n",
       "Aruba                                                   30\n",
       "Australia                                         77817590\n",
       "Australian Antarctic Territory                           0\n",
       "Australian External Territories, nec                     0\n",
       "Austria                                             102390\n",
       "Azerbaijan                                            1370\n",
       "Bahamas                                                740\n",
       "Bahrain                                               4890\n",
       "Bangladesh                                          106340\n",
       "Barbados                                              1330\n",
       "Belarus                                               6830\n",
       "Belgium                                              25490\n",
       "Belize                                                   0\n",
       "Benin                                                   50\n",
       "Bermuda                                               1600\n",
       "Bhutan                                                9270\n",
       "Bolivia, Plurinational State of                       3040\n",
       "Bonaire, Sint Eustatius and Saba                         0\n",
       "Bosnia and Herzegovina                              145150\n",
       "Botswana                                              3940\n",
       "Brazil                                               63720\n",
       "British Antarctic Territory                              0\n",
       "Brunei Darussalam                                    10710\n",
       "Bulgaria                                             14160\n",
       "Burkina Faso                                             0\n",
       "Burundi                                               5210\n",
       "Cabo Verde                                               0\n",
       "Cambodia                                            145250\n",
       "Cameroon                                               640\n",
       "Canada                                              197470\n",
       "Cayman Islands                                         140\n",
       "Central African Republic                                 0\n",
       "Chad                                                     0\n",
       "Chile                                               139890\n",
       "Chilean Antarctic Territory                              0\n",
       "China (excludes SARs and Taiwan)                   1469500\n",
       "Colombia                                             46470\n",
       "Comoros                                                 10\n",
       "Congo, Democratic Republic of                         8340\n",
       "Congo, Republic of                                    3460\n",
       "Cook Islands                                         25350\n",
       "Costa Rica                                            1250\n",
       "Cote d'Ivoire                                         1220\n",
       "Croatia                                             258520\n",
       "Cuba                                                  2600\n",
       "Curacao                                                 60\n",
       "Cyprus                                              109460\n",
       "Czechia                                              53910\n",
       "Denmark                                              51550\n",
       "Djibouti                                               360\n",
       "Dominica                                                 0\n",
       "Dominican Republic                                     230\n",
       "Ecuador                                               7470\n",
       "Egypt                                               202830\n",
       "El Salvador                                          44070\n",
       "England                                            3860310\n",
       "Equatorial Guinea                                        0\n",
       "Eritrea                                              12470\n",
       "Estonia                                              11360\n",
       "Eswatini                                               790\n",
       "Ethiopia                                             33890\n",
       "Falkland Islands                                       120\n",
       "Faroe Islands                                           10\n",
       "Fiji                                                286250\n",
       "Finland                                              47190\n",
       "France                                              124590\n",
       "French Guiana                                            0\n",
       "French Polynesia                                      1550\n",
       "Gabon                                                   30\n",
       "Gambia                                                  70\n",
       "Gaza Strip and West Bank                             12440\n",
       "Georgia                                               1660\n",
       "Germany                                             607870\n",
       "Ghana                                                16040\n",
       "Gibraltar                                             1630\n",
       "Greece                                              631000\n",
       "Greenland                                                0\n",
       "Grenada                                                260\n",
       "Guadeloupe                                              10\n",
       "Guam                                                   100\n",
       "Guatemala                                             1230\n",
       "Guernsey                                              2840\n",
       "Guinea                                                1820\n",
       "Guinea-Bissau                                           20\n",
       "Guyana                                                2050\n",
       "Haiti                                                  130\n",
       "Holy See                                                 0\n",
       "Honduras                                               630\n",
       "Hong Kong (SAR of China)                            339180\n",
       "Hungary                                             120600\n",
       "Iceland                                               2260\n",
       "Inadequately Described                             1762050\n",
       "India                                              1175500\n",
       "Indonesia                                           315270\n",
       "Iran                                                175720\n",
       "Iraq                                                197830\n",
       "Ireland                                             331510\n",
       "Isle of Man                                           3020\n",
       "Israel                                               46450\n",
       "Italy                                              1096260\n",
       "Jamaica                                               4040\n",
       "Japan                                               177270\n",
       "Jersey                                                4680\n",
       "Jordan                                               20450\n",
       "Kazakhstan                                            4480\n",
       "Kenya                                                56470\n",
       "Kiribati                                              1660\n",
       "Korea, Democratic People's Republic of (North)        1080\n",
       "Korea, Republic of (South)                          323310\n",
       "Kosovo                                                2890\n",
       "Kuwait                                               17500\n",
       "Kyrgyzstan                                             890\n",
       "Laos                                                 54180\n",
       "Latvia                                               32480\n",
       "Lebanon                                             427470\n",
       "Lesotho                                                 90\n",
       "Liberia                                               8160\n",
       "Libya                                                 8640\n",
       "Liechtenstein                                            0\n",
       "Lithuania                                            17820\n",
       "Luxembourg                                             210\n",
       "Macau (SAR of China)                                  9400\n",
       "Madagascar                                             480\n",
       "Malawi                                                3630\n",
       "Malaysia                                            478020\n",
       "Maldives                                              1090\n",
       "Mali                                                    20\n",
       "Malta                                               250040\n",
       "Marshall Islands                                        20\n",
       "Martinique                                              20\n",
       "Mauritania                                              30\n",
       "Mauritius                                           114460\n",
       "Mayotte                                                  0\n",
       "Mexico                                               12940\n",
       "Micronesia, Federated States of                          0\n",
       "Moldova                                               3430\n",
       "Monaco                                                   0\n",
       "Mongolia                                              3460\n",
       "Montenegro                                           11130\n",
       "Montserrat                                               0\n",
       "Morocco                                               6920\n",
       "Mozambique                                            2940\n",
       "Myanmar, The Republic of the Union of                96690\n",
       "Namibia                                               3620\n",
       "Nauru                                                 2140\n",
       "Nepal                                                93570\n",
       "Netherlands                                         446920\n",
       "New Caledonia                                         5100\n",
       "New Zealand                                        2251930\n",
       "Nicaragua                                             2830\n",
       "Niger                                                    0\n",
       "Nigeria                                              19800\n",
       "Niue                                                  2590\n",
       "Norfolk Island                                         820\n",
       "North Macedonia                                     202250\n",
       "Northern Ireland                                     99640\n",
       "Northern Mariana Islands                                10\n",
       "Norway                                               17410\n",
       "Oman                                                  4380\n",
       "Pakistan                                            134650\n",
       "Palau                                                    0\n",
       "Panama                                                 350\n",
       "Papua New Guinea                                    144120\n",
       "Paraguay                                              1310\n",
       "Peru                                                 34510\n",
       "Philippines                                         807080\n",
       "Pitcairn Islands                                         0\n",
       "Poland                                              312910\n",
       "Polynesia (excludes Hawaii), nec                        20\n",
       "Portugal                                             92530\n",
       "Puerto Rico                                            240\n",
       "Qatar                                                 2420\n",
       "Queen Maud Land (Norway)                                 0\n",
       "Reunion                                                300\n",
       "Romania                                              77360\n",
       "Ross Dependency (New Zealand)                            0\n",
       "Russian Federation                                   83540\n",
       "Rwanda                                                1770\n",
       "Samoa                                                81800\n",
       "Samoa, American                                        760\n",
       "San Marino                                               0\n",
       "Sao Tome and Principe                                    0\n",
       "Saudi Arabia                                         32250\n",
       "Scotland                                            557870\n",
       "Senegal                                               1040\n",
       "Serbia                                              156290\n",
       "Seychelles                                           11620\n",
       "Sierra Leone                                          9660\n",
       "Singapore                                           227800\n",
       "Sint Maarten (Dutch part)                                0\n",
       "Slovakia                                             25200\n",
       "Slovenia                                             33560\n",
       "Solomon Islands                                       7230\n",
       "Somalia                                              24150\n",
       "South Africa                                        610700\n",
       "South America, nec                                       0\n",
       "South Sudan                                          12350\n",
       "Southern and East Africa, nec                            0\n",
       "Spain                                                76960\n",
       "Spanish North Africa                                     0\n",
       "Sri Lanka                                           413230\n",
       "St Barthelemy                                            0\n",
       "St Helena                                                0\n",
       "St Kitts and Nevis                                       0\n",
       "St Lucia                                                 0\n",
       "St Martin (French part)                                  0\n",
       "St Pierre and Miquelon                                   0\n",
       "St Vincent and the Grenadines                           70\n",
       "Sudan                                                67420\n",
       "Suriname                                                60\n",
       "Sweden                                               38310\n",
       "Switzerland                                          65630\n",
       "Syria                                                42010\n",
       "Taiwan                                              137530\n",
       "Tajikistan                                             100\n",
       "Tanzania                                             13160\n",
       "Thailand                                            203010\n",
       "Timor-Leste                                          41670\n",
       "Togo                                                   570\n",
       "Tokelau                                               1750\n",
       "Tonga                                                39490\n",
       "Trinidad and Tobago                                   6480\n",
       "Tunisia                                               2080\n",
       "Turkey                                              184580\n",
       "Turkmenistan                                            80\n",
       "Turks and Caicos Islands                                 0\n",
       "Tuvalu                                                 220\n",
       "Uganda                                               10400\n",
       "Ukraine                                              84870\n",
       "United Arab Emirates                                 19480\n",
       "United States of America                            387940\n",
       "Uruguay                                              53570\n",
       "Uzbekistan                                            4550\n",
       "Vanuatu                                               4630\n",
       "Venezuela, Bolivarian Republic of                    13340\n",
       "Vietnam                                             951510\n",
       "Virgin Islands, British                                  0\n",
       "Virgin Islands, United States                            0\n",
       "Wales                                               128790\n",
       "Wallis and Futuna                                        0\n",
       "Western Sahara                                           0\n",
       "Yemen                                                 1800\n",
       "Zambia                                               22110\n",
       "Zimbabwe                                            113450\n",
       "Name: Population, dtype: int64"
      ]
     },
     "execution_count": 54,
     "metadata": {},
     "output_type": "execute_result"
    }
   ],
   "source": [
    "data1.groupby('Country.of.birth').Population.sum()"
   ]
  },
  {
   "cell_type": "code",
   "execution_count": 64,
   "id": "c33856c9",
   "metadata": {},
   "outputs": [
    {
     "data": {
      "text/plain": [
       "256"
      ]
     },
     "execution_count": 64,
     "metadata": {},
     "output_type": "execute_result"
    }
   ],
   "source": [
    "data1['Country.of.birth'].nunique()"
   ]
  },
  {
   "cell_type": "markdown",
   "id": "5dea6e37",
   "metadata": {},
   "source": [
    "Country of birth feature contains 256 unique values. Some countries do not have any people stay in Australia. "
   ]
  }
 ],
 "metadata": {
  "kernelspec": {
   "display_name": "Python 3 (ipykernel)",
   "language": "python",
   "name": "python3"
  },
  "language_info": {
   "codemirror_mode": {
    "name": "ipython",
    "version": 3
   },
   "file_extension": ".py",
   "mimetype": "text/x-python",
   "name": "python",
   "nbconvert_exporter": "python",
   "pygments_lexer": "ipython3",
   "version": "3.9.7"
  }
 },
 "nbformat": 4,
 "nbformat_minor": 5
}
